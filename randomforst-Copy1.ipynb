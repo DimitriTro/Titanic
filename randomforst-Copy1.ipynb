{
 "cells": [
  {
   "cell_type": "code",
   "execution_count": 1,
   "metadata": {
    "collapsed": true
   },
   "outputs": [],
   "source": [
    "import numpy as np\n",
    "import pandas as pd\n",
    "\n",
    "from sklearn import tree\n",
    "from sklearn.ensemble import RandomForestClassifier"
   ]
  },
  {
   "cell_type": "code",
   "execution_count": 2,
   "metadata": {},
   "outputs": [
    {
     "name": "stdout",
     "output_type": "stream",
     "text": [
      "0    549\n",
      "1    342\n",
      "Name: Survived, dtype: int64\n"
     ]
    },
    {
     "data": {
      "text/html": [
       "<div>\n",
       "<style>\n",
       "    .dataframe thead tr:only-child th {\n",
       "        text-align: right;\n",
       "    }\n",
       "\n",
       "    .dataframe thead th {\n",
       "        text-align: left;\n",
       "    }\n",
       "\n",
       "    .dataframe tbody tr th {\n",
       "        vertical-align: top;\n",
       "    }\n",
       "</style>\n",
       "<table border=\"1\" class=\"dataframe\">\n",
       "  <thead>\n",
       "    <tr style=\"text-align: right;\">\n",
       "      <th></th>\n",
       "      <th>PassengerId</th>\n",
       "      <th>Survived</th>\n",
       "      <th>Pclass</th>\n",
       "      <th>Name</th>\n",
       "      <th>Sex</th>\n",
       "      <th>Age</th>\n",
       "      <th>SibSp</th>\n",
       "      <th>Parch</th>\n",
       "      <th>Ticket</th>\n",
       "      <th>Fare</th>\n",
       "      <th>Cabin</th>\n",
       "      <th>Embarked</th>\n",
       "    </tr>\n",
       "  </thead>\n",
       "  <tbody>\n",
       "    <tr>\n",
       "      <th>0</th>\n",
       "      <td>1</td>\n",
       "      <td>0</td>\n",
       "      <td>3</td>\n",
       "      <td>Braund, Mr. Owen Harris</td>\n",
       "      <td>male</td>\n",
       "      <td>22.0</td>\n",
       "      <td>1</td>\n",
       "      <td>0</td>\n",
       "      <td>A/5 21171</td>\n",
       "      <td>7.2500</td>\n",
       "      <td>NaN</td>\n",
       "      <td>S</td>\n",
       "    </tr>\n",
       "    <tr>\n",
       "      <th>1</th>\n",
       "      <td>2</td>\n",
       "      <td>1</td>\n",
       "      <td>1</td>\n",
       "      <td>Cumings, Mrs. John Bradley (Florence Briggs Th...</td>\n",
       "      <td>female</td>\n",
       "      <td>38.0</td>\n",
       "      <td>1</td>\n",
       "      <td>0</td>\n",
       "      <td>PC 17599</td>\n",
       "      <td>71.2833</td>\n",
       "      <td>C85</td>\n",
       "      <td>C</td>\n",
       "    </tr>\n",
       "    <tr>\n",
       "      <th>2</th>\n",
       "      <td>3</td>\n",
       "      <td>1</td>\n",
       "      <td>3</td>\n",
       "      <td>Heikkinen, Miss. Laina</td>\n",
       "      <td>female</td>\n",
       "      <td>26.0</td>\n",
       "      <td>0</td>\n",
       "      <td>0</td>\n",
       "      <td>STON/O2. 3101282</td>\n",
       "      <td>7.9250</td>\n",
       "      <td>NaN</td>\n",
       "      <td>S</td>\n",
       "    </tr>\n",
       "    <tr>\n",
       "      <th>3</th>\n",
       "      <td>4</td>\n",
       "      <td>1</td>\n",
       "      <td>1</td>\n",
       "      <td>Futrelle, Mrs. Jacques Heath (Lily May Peel)</td>\n",
       "      <td>female</td>\n",
       "      <td>35.0</td>\n",
       "      <td>1</td>\n",
       "      <td>0</td>\n",
       "      <td>113803</td>\n",
       "      <td>53.1000</td>\n",
       "      <td>C123</td>\n",
       "      <td>S</td>\n",
       "    </tr>\n",
       "    <tr>\n",
       "      <th>4</th>\n",
       "      <td>5</td>\n",
       "      <td>0</td>\n",
       "      <td>3</td>\n",
       "      <td>Allen, Mr. William Henry</td>\n",
       "      <td>male</td>\n",
       "      <td>35.0</td>\n",
       "      <td>0</td>\n",
       "      <td>0</td>\n",
       "      <td>373450</td>\n",
       "      <td>8.0500</td>\n",
       "      <td>NaN</td>\n",
       "      <td>S</td>\n",
       "    </tr>\n",
       "  </tbody>\n",
       "</table>\n",
       "</div>"
      ],
      "text/plain": [
       "   PassengerId  Survived  Pclass  \\\n",
       "0            1         0       3   \n",
       "1            2         1       1   \n",
       "2            3         1       3   \n",
       "3            4         1       1   \n",
       "4            5         0       3   \n",
       "\n",
       "                                                Name     Sex   Age  SibSp  \\\n",
       "0                            Braund, Mr. Owen Harris    male  22.0      1   \n",
       "1  Cumings, Mrs. John Bradley (Florence Briggs Th...  female  38.0      1   \n",
       "2                             Heikkinen, Miss. Laina  female  26.0      0   \n",
       "3       Futrelle, Mrs. Jacques Heath (Lily May Peel)  female  35.0      1   \n",
       "4                           Allen, Mr. William Henry    male  35.0      0   \n",
       "\n",
       "   Parch            Ticket     Fare Cabin Embarked  \n",
       "0      0         A/5 21171   7.2500   NaN        S  \n",
       "1      0          PC 17599  71.2833   C85        C  \n",
       "2      0  STON/O2. 3101282   7.9250   NaN        S  \n",
       "3      0            113803  53.1000  C123        S  \n",
       "4      0            373450   8.0500   NaN        S  "
      ]
     },
     "execution_count": 2,
     "metadata": {},
     "output_type": "execute_result"
    }
   ],
   "source": [
    "train = pd.read_csv(\"train.csv\")\n",
    "passager = pd.read_csv(\"gender_submission.csv\")\n",
    "print(train[\"Survived\"].value_counts())\n",
    "train.head()"
   ]
  },
  {
   "cell_type": "markdown",
   "metadata": {},
   "source": [
    "# Functions creation"
   ]
  },
  {
   "cell_type": "code",
   "execution_count": 3,
   "metadata": {},
   "outputs": [],
   "source": [
    "#creating cleaning functions \n",
    "def Fillage(dataset): \n",
    "    average = dataset.Age.mean()\n",
    "    dataset.Age = dataset.Age.fillna(average)#Fill empty of Age with mean()\n",
    "    return\n",
    "def children(dataset): #creating a 'childre' feature\n",
    "    dataset[\"Child\"] = float('NaN')\n",
    "    dataset['Child'][dataset['Age'] < 18]=1\n",
    "    dataset['Child'][dataset['Age'] >= 18] =0\n",
    "    return dataset\n",
    "    \n",
    "def sexCat(dataset): #creating categories for sex\n",
    "    dataset.loc[train['Sex'] == 'male', 'Sex']=0\n",
    "    dataset.loc[train['Sex'] == 'female', 'Sex']=1\n",
    "    dataset.Sex = train.Sex.astype('category')\n",
    "\n",
    "def embarcation(dataset):\n",
    "    dataset[\"Embarked\"] = dataset[\"Embarked\"].fillna(0)\n",
    "    dataset.loc[dataset['Embarked'] == 'S', 'Embarked']=0\n",
    "    dataset.loc[dataset['Embarked'] == 'C', 'Embarked']=1\n",
    "    dataset.loc[dataset['Embarked'] == 'Q', 'Embarked']=2\n",
    "    dataset.Embarked = dataset.Embarked.astype('category')\n",
    "    \n",
    "def title(dataset): # create classes with title and transfor in dummies\n",
    "    dataset['title']= dataset['Name'].apply(lambda x : x[x.index(\",\"):x.index(\".\")][2:])\n",
    "    return dataset\n",
    "    \n",
    "def cabins(dataset): #fill empty cabin cells\n",
    "    dataset.Cabin = dataset.Cabin.fillna('noCab')\n",
    "    return dataset\n",
    "\n",
    "\n",
    "def cabtypes(dataset):\n",
    "    dataset['CabType']= dataset['Cabin'].apply(lambda x:str(x)[0]) \n",
    "    \n",
    "\n",
    "\n"
   ]
  },
  {
   "cell_type": "markdown",
   "metadata": {},
   "source": [
    "# Cleaning the train set"
   ]
  },
  {
   "cell_type": "code",
   "execution_count": 4,
   "metadata": {},
   "outputs": [
    {
     "name": "stdout",
     "output_type": "stream",
     "text": [
      "<class 'pandas.core.frame.DataFrame'>\n",
      "RangeIndex: 891 entries, 0 to 890\n",
      "Data columns (total 28 columns):\n",
      "PassengerId    891 non-null int64\n",
      "Survived       891 non-null int64\n",
      "Pclass         891 non-null int64\n",
      "Name           891 non-null object\n",
      "Sex            891 non-null category\n",
      "Age            891 non-null float64\n",
      "SibSp          891 non-null int64\n",
      "Parch          891 non-null int64\n",
      "Ticket         891 non-null object\n",
      "Fare           891 non-null float64\n",
      "Cabin          891 non-null object\n",
      "Embarked       891 non-null category\n",
      "Child          891 non-null float64\n",
      "Master         891 non-null uint8\n",
      "Miss           891 non-null uint8\n",
      "Mr             891 non-null uint8\n",
      "Mrs            891 non-null uint8\n",
      "moitie         891 non-null uint8\n",
      "mort           891 non-null uint8\n",
      "survit         891 non-null uint8\n",
      "A              891 non-null uint8\n",
      "B              891 non-null uint8\n",
      "C              891 non-null uint8\n",
      "D              891 non-null uint8\n",
      "F              891 non-null uint8\n",
      "G              891 non-null uint8\n",
      "T              891 non-null uint8\n",
      "n              891 non-null uint8\n",
      "dtypes: category(2), float64(3), int64(5), object(3), uint8(15)\n",
      "memory usage: 91.6+ KB\n"
     ]
    },
    {
     "name": "stderr",
     "output_type": "stream",
     "text": [
      "C:\\Users\\Dimitri\\Anaconda3\\lib\\site-packages\\ipykernel_launcher.py:8: SettingWithCopyWarning: \n",
      "A value is trying to be set on a copy of a slice from a DataFrame\n",
      "\n",
      "See the caveats in the documentation: http://pandas.pydata.org/pandas-docs/stable/indexing.html#indexing-view-versus-copy\n",
      "  \n",
      "C:\\Users\\Dimitri\\Anaconda3\\lib\\site-packages\\ipykernel_launcher.py:9: SettingWithCopyWarning: \n",
      "A value is trying to be set on a copy of a slice from a DataFrame\n",
      "\n",
      "See the caveats in the documentation: http://pandas.pydata.org/pandas-docs/stable/indexing.html#indexing-view-versus-copy\n",
      "  if __name__ == '__main__':\n"
     ]
    }
   ],
   "source": [
    "#Data Cleaning and feature engineering\n",
    "Fillage(train)\n",
    "children(train)\n",
    "sexCat(train)\n",
    "embarcation(train)\n",
    "title(train)\n",
    "cabins(train)\n",
    "cabtypes(train)\n",
    "\n",
    "titre = pd.crosstab(train[\"Survived\"], train[\"title\"], normalize=False)\n",
    "\n",
    "\n",
    "#regrouper les catégories\n",
    "#Creer catégories Avec dictionnaire\n",
    "dic={'Lady':'survit', 'Mlle':'survit','Mme' : 'survit', 'Ms' : 'survit', 'Sir': 'survit', 'the Countess':'survit', 'Capt':'mort', 'Don':'mort', 'Jonkheer':'mort', 'Rev':'mort', 'Col':'moitie', 'Major':'moitie', 'Dr':'moitie' }\n",
    "\n",
    "for key,value in dic.items():\n",
    "    train.loc[train['title']==key, 'title']=value\n",
    "\n",
    "titre = pd.crosstab(train[\"Survived\"], train[\"title\"], normalize=False)\n",
    "\n",
    "\n",
    "dummies = pd.get_dummies(train['title'])\n",
    "train = train.drop('title', axis=1)\n",
    "train = pd.concat([train, dummies], axis=1)\n",
    "\n",
    "cabins(train)\n",
    "cabtypes(train)\n",
    "\n",
    "\n",
    "train.loc[train['CabType'] == 'E', 'CabType']='D'\n",
    "\n",
    "\n",
    "cabines = pd.crosstab(train['CabType'], train['Survived'])\n",
    "\n",
    "\n",
    "\n",
    "\n",
    "dummies2 = pd.get_dummies(train['CabType'])\n",
    "train = train.drop('CabType', axis=1)\n",
    "train = pd.concat([train, dummies2], axis=1)\n",
    "\n",
    "train.info()"
   ]
  },
  {
   "cell_type": "code",
   "execution_count": null,
   "metadata": {
    "collapsed": true
   },
   "outputs": [],
   "source": []
  },
  {
   "cell_type": "code",
   "execution_count": null,
   "metadata": {
    "collapsed": true
   },
   "outputs": [],
   "source": []
  },
  {
   "cell_type": "markdown",
   "metadata": {},
   "source": [
    "# Test Set"
   ]
  },
  {
   "cell_type": "code",
   "execution_count": 5,
   "metadata": {},
   "outputs": [
    {
     "name": "stdout",
     "output_type": "stream",
     "text": [
      "<class 'pandas.core.frame.DataFrame'>\n",
      "RangeIndex: 418 entries, 0 to 417\n",
      "Data columns (total 27 columns):\n",
      "PassengerId    418 non-null int64\n",
      "Pclass         418 non-null int64\n",
      "Name           418 non-null object\n",
      "Sex            418 non-null category\n",
      "Age            418 non-null float64\n",
      "SibSp          418 non-null int64\n",
      "Parch          418 non-null int64\n",
      "Ticket         418 non-null object\n",
      "Fare           418 non-null float64\n",
      "Cabin          418 non-null object\n",
      "Embarked       418 non-null category\n",
      "Child          418 non-null float64\n",
      "Dona           418 non-null uint8\n",
      "Master         418 non-null uint8\n",
      "Miss           418 non-null uint8\n",
      "Mr             418 non-null uint8\n",
      "Mrs            418 non-null uint8\n",
      "moitie         418 non-null uint8\n",
      "mort           418 non-null uint8\n",
      "survit         418 non-null uint8\n",
      "A              418 non-null uint8\n",
      "B              418 non-null uint8\n",
      "C              418 non-null uint8\n",
      "D              418 non-null uint8\n",
      "F              418 non-null uint8\n",
      "G              418 non-null uint8\n",
      "n              418 non-null uint8\n",
      "dtypes: category(2), float64(3), int64(4), object(3), uint8(15)\n",
      "memory usage: 39.9+ KB\n"
     ]
    },
    {
     "name": "stderr",
     "output_type": "stream",
     "text": [
      "C:\\Users\\Dimitri\\Anaconda3\\lib\\site-packages\\ipykernel_launcher.py:8: SettingWithCopyWarning: \n",
      "A value is trying to be set on a copy of a slice from a DataFrame\n",
      "\n",
      "See the caveats in the documentation: http://pandas.pydata.org/pandas-docs/stable/indexing.html#indexing-view-versus-copy\n",
      "  \n",
      "C:\\Users\\Dimitri\\Anaconda3\\lib\\site-packages\\ipykernel_launcher.py:9: SettingWithCopyWarning: \n",
      "A value is trying to be set on a copy of a slice from a DataFrame\n",
      "\n",
      "See the caveats in the documentation: http://pandas.pydata.org/pandas-docs/stable/indexing.html#indexing-view-versus-copy\n",
      "  if __name__ == '__main__':\n"
     ]
    }
   ],
   "source": [
    "#Load test set\n",
    "test = pd.read_csv(\"test.csv\")\n",
    "\n",
    "#Data Cleaning and feature engineering\n",
    "Fillage(test)\n",
    "children(test)\n",
    "sexCat(test)\n",
    "embarcation(test)\n",
    "cabins(train)\n",
    "\n",
    "test['title']= test['Name'].apply(lambda x : x[x.index(\",\"):x.index(\".\")][2:])\n",
    "\n",
    "#regrouper les catégories\n",
    "#regrouper les catégories\n",
    "#Creer catégories Avec dictionnaire\n",
    "dic={'Lady':'survit', 'Mlle':'survit','Mme' : 'survit', 'Ms' : 'survit', 'Sir': 'survit', 'the Countess':'survit', 'Capt':'mort', 'Don':'mort', 'Jonkheer':'mort', 'Rev':'mort', 'Col':'moitie', 'Major':'moitie', 'Dr':'moitie' }\n",
    "\n",
    "for key,value in dic.items():\n",
    "    test.loc[test['title']==key, 'title']=value\n",
    "\n",
    "\n",
    "dummies = pd.get_dummies(test['title'])\n",
    "test = test.drop('title', axis=1)\n",
    "test = pd.concat([test, dummies], axis=1)\n",
    "\n",
    "\n",
    "empty = {'Cabin': 'noCab'}\n",
    "test = test.fillna(value=empty)\n",
    "\n",
    "average2 = test.Fare.mean()\n",
    "test.Fare = test.Fare.fillna(average2)#Fill empty of Fare with mean()\n",
    "\n",
    "cabtypes(test)\n",
    "\n",
    "\n",
    "test.loc[test['CabType'] == 'E', 'CabType']='D'\n",
    "\n",
    "\n",
    "\n",
    "dummies2 = pd.get_dummies(test['CabType'])\n",
    "test = test.drop('CabType', axis=1)\n",
    "test = pd.concat([test, dummies2], axis=1)\n",
    "test.info()\n"
   ]
  },
  {
   "cell_type": "markdown",
   "metadata": {
    "collapsed": true
   },
   "source": [
    "# Creating the model (random forest)"
   ]
  },
  {
   "cell_type": "code",
   "execution_count": 6,
   "metadata": {
    "scrolled": true
   },
   "outputs": [
    {
     "name": "stdout",
     "output_type": "stream",
     "text": [
      "0.931537598204\n",
      "418\n"
     ]
    }
   ],
   "source": [
    "#create X and Y  (training)\n",
    "y = train.Survived\n",
    "x = train[['Pclass','Sex', 'Age', 'SibSp',  'Parch', 'Embarked', 'Fare', 'Child', 'Miss', 'Mr','Mrs','Master', 'moitie', 'mort', 'survit' , \"A\",  \"B\",  \"C\",  \"D\", \"F\", \"G\", \"n\"]]\n",
    "\n",
    "y = np.ravel(y)\n",
    "\n",
    "# Building and fitting my_forest\n",
    "forest = RandomForestClassifier(max_depth = 10, min_samples_split=2, n_estimators = 100, random_state = 1)\n",
    "my_forest = forest.fit(x, y)\n",
    "\n",
    "# Print the score of the fitted random forest\n",
    "print(my_forest.score(x, y))\n",
    "\n",
    "# Compute predictions on our test set features then print the length of the prediction vector\n",
    "test_features = test[['Pclass','Sex', 'Age', 'SibSp',  'Parch', 'Embarked', 'Fare', 'Child', 'Miss', 'Mr','Mrs','Master', 'moitie', 'mort', 'survit' , \"A\",  \"B\",  \"C\",  \"D\", \"F\", \"G\", \"n\"]]\n",
    "\n",
    "pred_forest = my_forest.predict(test_features)\n",
    "print(len(pred_forest))\n",
    "\n"
   ]
  },
  {
   "cell_type": "code",
   "execution_count": 7,
   "metadata": {
    "collapsed": true
   },
   "outputs": [],
   "source": [
    "PassengerId =np.array(test[\"PassengerId\"]).astype(int)\n",
    "my_solution = pd.DataFrame(pred_forest, PassengerId, columns = [\"Survived\"])\n",
    "\n",
    "my_solution.to_csv(\"sol8.csv\", index_label = [\"PassengerId\"])"
   ]
  },
  {
   "cell_type": "code",
   "execution_count": null,
   "metadata": {
    "collapsed": true
   },
   "outputs": [],
   "source": []
  },
  {
   "cell_type": "code",
   "execution_count": null,
   "metadata": {
    "collapsed": true
   },
   "outputs": [],
   "source": []
  },
  {
   "cell_type": "code",
   "execution_count": null,
   "metadata": {
    "collapsed": true
   },
   "outputs": [],
   "source": []
  }
 ],
 "metadata": {
  "kernelspec": {
   "display_name": "Python 3",
   "language": "python",
   "name": "python3"
  },
  "language_info": {
   "codemirror_mode": {
    "name": "ipython",
    "version": 3
   },
   "file_extension": ".py",
   "mimetype": "text/x-python",
   "name": "python",
   "nbconvert_exporter": "python",
   "pygments_lexer": "ipython3",
   "version": "3.6.2"
  }
 },
 "nbformat": 4,
 "nbformat_minor": 2
}
